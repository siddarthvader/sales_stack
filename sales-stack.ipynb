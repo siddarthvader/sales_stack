{
 "cells": [
  {
   "cell_type": "code",
   "execution_count": 1,
   "id": "3b66fb5c",
   "metadata": {
    "collapsed": true
   },
   "outputs": [
    {
     "name": "stdout",
     "output_type": "stream",
     "text": [
      "Requirement already satisfied: chroma-haystack in /Users/siddharthjain/anaconda3/envs/p3.9/lib/python3.9/site-packages (0.7.0)\r\n",
      "Requirement already satisfied: chromadb in /Users/siddharthjain/anaconda3/envs/p3.9/lib/python3.9/site-packages (from chroma-haystack) (0.4.15)\r\n",
      "Requirement already satisfied: haystack-ai in /Users/siddharthjain/anaconda3/envs/p3.9/lib/python3.9/site-packages (from chroma-haystack) (0.116.0)\r\n",
      "Requirement already satisfied: requests>=2.28 in /Users/siddharthjain/anaconda3/envs/p3.9/lib/python3.9/site-packages (from chromadb->chroma-haystack) (2.31.0)\r\n",
      "Requirement already satisfied: pydantic>=1.9 in /Users/siddharthjain/anaconda3/envs/p3.9/lib/python3.9/site-packages (from chromadb->chroma-haystack) (2.4.2)\r\n",
      "Requirement already satisfied: chroma-hnswlib==0.7.3 in /Users/siddharthjain/anaconda3/envs/p3.9/lib/python3.9/site-packages (from chromadb->chroma-haystack) (0.7.3)\r\n",
      "Requirement already satisfied: fastapi>=0.95.2 in /Users/siddharthjain/anaconda3/envs/p3.9/lib/python3.9/site-packages (from chromadb->chroma-haystack) (0.104.1)\r\n",
      "Requirement already satisfied: uvicorn[standard]>=0.18.3 in /Users/siddharthjain/anaconda3/envs/p3.9/lib/python3.9/site-packages (from chromadb->chroma-haystack) (0.23.2)\r\n",
      "Requirement already satisfied: posthog>=2.4.0 in /Users/siddharthjain/anaconda3/envs/p3.9/lib/python3.9/site-packages (from chromadb->chroma-haystack) (3.0.2)\r\n",
      "Requirement already satisfied: typing-extensions>=4.5.0 in /Users/siddharthjain/anaconda3/envs/p3.9/lib/python3.9/site-packages (from chromadb->chroma-haystack) (4.8.0)\r\n",
      "Requirement already satisfied: pulsar-client>=3.1.0 in /Users/siddharthjain/anaconda3/envs/p3.9/lib/python3.9/site-packages (from chromadb->chroma-haystack) (3.3.0)\r\n",
      "Requirement already satisfied: onnxruntime>=1.14.1 in /Users/siddharthjain/anaconda3/envs/p3.9/lib/python3.9/site-packages (from chromadb->chroma-haystack) (1.16.1)\r\n",
      "Requirement already satisfied: opentelemetry-api>=1.2.0 in /Users/siddharthjain/anaconda3/envs/p3.9/lib/python3.9/site-packages (from chromadb->chroma-haystack) (1.20.0)\r\n",
      "Requirement already satisfied: opentelemetry-exporter-otlp-proto-grpc>=1.2.0 in /Users/siddharthjain/anaconda3/envs/p3.9/lib/python3.9/site-packages (from chromadb->chroma-haystack) (1.20.0)\r\n",
      "Requirement already satisfied: opentelemetry-sdk>=1.2.0 in /Users/siddharthjain/anaconda3/envs/p3.9/lib/python3.9/site-packages (from chromadb->chroma-haystack) (1.20.0)\r\n",
      "Requirement already satisfied: tokenizers>=0.13.2 in /Users/siddharthjain/anaconda3/envs/p3.9/lib/python3.9/site-packages (from chromadb->chroma-haystack) (0.14.1)\r\n",
      "Requirement already satisfied: pypika>=0.48.9 in /Users/siddharthjain/anaconda3/envs/p3.9/lib/python3.9/site-packages (from chromadb->chroma-haystack) (0.48.9)\r\n",
      "Requirement already satisfied: tqdm>=4.65.0 in /Users/siddharthjain/anaconda3/envs/p3.9/lib/python3.9/site-packages (from chromadb->chroma-haystack) (4.66.1)\r\n",
      "Requirement already satisfied: overrides>=7.3.1 in /Users/siddharthjain/anaconda3/envs/p3.9/lib/python3.9/site-packages (from chromadb->chroma-haystack) (7.4.0)\r\n",
      "Requirement already satisfied: importlib-resources in /Users/siddharthjain/anaconda3/envs/p3.9/lib/python3.9/site-packages (from chromadb->chroma-haystack) (6.1.0)\r\n",
      "Requirement already satisfied: grpcio>=1.58.0 in /Users/siddharthjain/anaconda3/envs/p3.9/lib/python3.9/site-packages (from chromadb->chroma-haystack) (1.59.2)\r\n",
      "Requirement already satisfied: bcrypt>=4.0.1 in /Users/siddharthjain/anaconda3/envs/p3.9/lib/python3.9/site-packages (from chromadb->chroma-haystack) (4.0.1)\r\n",
      "Requirement already satisfied: typer>=0.9.0 in /Users/siddharthjain/anaconda3/envs/p3.9/lib/python3.9/site-packages (from chromadb->chroma-haystack) (0.9.0)\r\n",
      "Requirement already satisfied: kubernetes>=28.1.0 in /Users/siddharthjain/anaconda3/envs/p3.9/lib/python3.9/site-packages (from chromadb->chroma-haystack) (28.1.0)\r\n",
      "Requirement already satisfied: tenacity>=8.2.3 in /Users/siddharthjain/anaconda3/envs/p3.9/lib/python3.9/site-packages (from chromadb->chroma-haystack) (8.2.3)\r\n",
      "Requirement already satisfied: numpy>=1.22.5 in /Users/siddharthjain/anaconda3/envs/p3.9/lib/python3.9/site-packages (from chromadb->chroma-haystack) (1.25.0)\r\n",
      "Requirement already satisfied: canals==0.8.1 in /Users/siddharthjain/anaconda3/envs/p3.9/lib/python3.9/site-packages (from haystack-ai->chroma-haystack) (0.8.1)\r\n",
      "Requirement already satisfied: jinja2 in /Users/siddharthjain/anaconda3/envs/p3.9/lib/python3.9/site-packages (from haystack-ai->chroma-haystack) (3.1.2)\r\n",
      "Requirement already satisfied: lazy-imports in /Users/siddharthjain/anaconda3/envs/p3.9/lib/python3.9/site-packages (from haystack-ai->chroma-haystack) (0.3.1)\r\n",
      "Requirement already satisfied: more-itertools in /Users/siddharthjain/anaconda3/envs/p3.9/lib/python3.9/site-packages (from haystack-ai->chroma-haystack) (10.1.0)\r\n",
      "Requirement already satisfied: openai in /Users/siddharthjain/anaconda3/envs/p3.9/lib/python3.9/site-packages (from haystack-ai->chroma-haystack) (0.28.1)\r\n",
      "Requirement already satisfied: pandas in /Users/siddharthjain/anaconda3/envs/p3.9/lib/python3.9/site-packages (from haystack-ai->chroma-haystack) (2.0.2)\r\n",
      "Requirement already satisfied: pyyaml in /Users/siddharthjain/anaconda3/envs/p3.9/lib/python3.9/site-packages (from haystack-ai->chroma-haystack) (6.0)\r\n",
      "Requirement already satisfied: rank-bm25 in /Users/siddharthjain/anaconda3/envs/p3.9/lib/python3.9/site-packages (from haystack-ai->chroma-haystack) (0.2.2)\r\n",
      "Requirement already satisfied: networkx in /Users/siddharthjain/anaconda3/envs/p3.9/lib/python3.9/site-packages (from canals==0.8.1->haystack-ai->chroma-haystack) (3.2.1)\r\n",
      "Requirement already satisfied: anyio<4.0.0,>=3.7.1 in /Users/siddharthjain/anaconda3/envs/p3.9/lib/python3.9/site-packages (from fastapi>=0.95.2->chromadb->chroma-haystack) (3.7.1)\r\n",
      "Requirement already satisfied: starlette<0.28.0,>=0.27.0 in /Users/siddharthjain/anaconda3/envs/p3.9/lib/python3.9/site-packages (from fastapi>=0.95.2->chromadb->chroma-haystack) (0.27.0)\r\n",
      "Requirement already satisfied: certifi>=14.05.14 in /Users/siddharthjain/anaconda3/envs/p3.9/lib/python3.9/site-packages (from kubernetes>=28.1.0->chromadb->chroma-haystack) (2023.7.22)\r\n",
      "Requirement already satisfied: six>=1.9.0 in /Users/siddharthjain/anaconda3/envs/p3.9/lib/python3.9/site-packages (from kubernetes>=28.1.0->chromadb->chroma-haystack) (1.16.0)\r\n",
      "Requirement already satisfied: python-dateutil>=2.5.3 in /Users/siddharthjain/anaconda3/envs/p3.9/lib/python3.9/site-packages (from kubernetes>=28.1.0->chromadb->chroma-haystack) (2.8.2)\r\n",
      "Requirement already satisfied: google-auth>=1.0.1 in /Users/siddharthjain/anaconda3/envs/p3.9/lib/python3.9/site-packages (from kubernetes>=28.1.0->chromadb->chroma-haystack) (2.23.3)\r\n",
      "Requirement already satisfied: websocket-client!=0.40.0,!=0.41.*,!=0.42.*,>=0.32.0 in /Users/siddharthjain/anaconda3/envs/p3.9/lib/python3.9/site-packages (from kubernetes>=28.1.0->chromadb->chroma-haystack) (0.58.0)\r\n",
      "Requirement already satisfied: requests-oauthlib in /Users/siddharthjain/anaconda3/envs/p3.9/lib/python3.9/site-packages (from kubernetes>=28.1.0->chromadb->chroma-haystack) (1.3.1)\r\n",
      "Requirement already satisfied: oauthlib>=3.2.2 in /Users/siddharthjain/anaconda3/envs/p3.9/lib/python3.9/site-packages (from kubernetes>=28.1.0->chromadb->chroma-haystack) (3.2.2)\r\n",
      "Requirement already satisfied: urllib3<2.0,>=1.24.2 in /Users/siddharthjain/anaconda3/envs/p3.9/lib/python3.9/site-packages (from kubernetes>=28.1.0->chromadb->chroma-haystack) (1.26.18)\r\n",
      "Requirement already satisfied: coloredlogs in /Users/siddharthjain/anaconda3/envs/p3.9/lib/python3.9/site-packages (from onnxruntime>=1.14.1->chromadb->chroma-haystack) (15.0.1)\r\n",
      "Requirement already satisfied: flatbuffers in /Users/siddharthjain/anaconda3/envs/p3.9/lib/python3.9/site-packages (from onnxruntime>=1.14.1->chromadb->chroma-haystack) (23.5.26)\r\n",
      "Requirement already satisfied: packaging in /Users/siddharthjain/anaconda3/envs/p3.9/lib/python3.9/site-packages (from onnxruntime>=1.14.1->chromadb->chroma-haystack) (23.0)\r\n",
      "Requirement already satisfied: protobuf in /Users/siddharthjain/anaconda3/envs/p3.9/lib/python3.9/site-packages (from onnxruntime>=1.14.1->chromadb->chroma-haystack) (4.24.4)\r\n",
      "Requirement already satisfied: sympy in /Users/siddharthjain/anaconda3/envs/p3.9/lib/python3.9/site-packages (from onnxruntime>=1.14.1->chromadb->chroma-haystack) (1.12)\r\n",
      "Requirement already satisfied: deprecated>=1.2.6 in /Users/siddharthjain/anaconda3/envs/p3.9/lib/python3.9/site-packages (from opentelemetry-api>=1.2.0->chromadb->chroma-haystack) (1.2.14)\r\n",
      "Requirement already satisfied: importlib-metadata<7.0,>=6.0 in /Users/siddharthjain/anaconda3/envs/p3.9/lib/python3.9/site-packages (from opentelemetry-api>=1.2.0->chromadb->chroma-haystack) (6.0.0)\r\n",
      "Requirement already satisfied: backoff<3.0.0,>=1.10.0 in /Users/siddharthjain/anaconda3/envs/p3.9/lib/python3.9/site-packages (from opentelemetry-exporter-otlp-proto-grpc>=1.2.0->chromadb->chroma-haystack) (2.2.1)\r\n",
      "Requirement already satisfied: googleapis-common-protos~=1.52 in /Users/siddharthjain/anaconda3/envs/p3.9/lib/python3.9/site-packages (from opentelemetry-exporter-otlp-proto-grpc>=1.2.0->chromadb->chroma-haystack) (1.61.0)\r\n",
      "Requirement already satisfied: opentelemetry-exporter-otlp-proto-common==1.20.0 in /Users/siddharthjain/anaconda3/envs/p3.9/lib/python3.9/site-packages (from opentelemetry-exporter-otlp-proto-grpc>=1.2.0->chromadb->chroma-haystack) (1.20.0)\r\n",
      "Requirement already satisfied: opentelemetry-proto==1.20.0 in /Users/siddharthjain/anaconda3/envs/p3.9/lib/python3.9/site-packages (from opentelemetry-exporter-otlp-proto-grpc>=1.2.0->chromadb->chroma-haystack) (1.20.0)\r\n"
     ]
    },
    {
     "name": "stdout",
     "output_type": "stream",
     "text": [
      "Requirement already satisfied: opentelemetry-semantic-conventions==0.41b0 in /Users/siddharthjain/anaconda3/envs/p3.9/lib/python3.9/site-packages (from opentelemetry-sdk>=1.2.0->chromadb->chroma-haystack) (0.41b0)\n",
      "Requirement already satisfied: monotonic>=1.5 in /Users/siddharthjain/anaconda3/envs/p3.9/lib/python3.9/site-packages (from posthog>=2.4.0->chromadb->chroma-haystack) (1.6)\n",
      "Requirement already satisfied: annotated-types>=0.4.0 in /Users/siddharthjain/anaconda3/envs/p3.9/lib/python3.9/site-packages (from pydantic>=1.9->chromadb->chroma-haystack) (0.6.0)\n",
      "Requirement already satisfied: pydantic-core==2.10.1 in /Users/siddharthjain/anaconda3/envs/p3.9/lib/python3.9/site-packages (from pydantic>=1.9->chromadb->chroma-haystack) (2.10.1)\n",
      "Requirement already satisfied: charset-normalizer<4,>=2 in /Users/siddharthjain/anaconda3/envs/p3.9/lib/python3.9/site-packages (from requests>=2.28->chromadb->chroma-haystack) (3.1.0)\n",
      "Requirement already satisfied: idna<4,>=2.5 in /Users/siddharthjain/anaconda3/envs/p3.9/lib/python3.9/site-packages (from requests>=2.28->chromadb->chroma-haystack) (3.4)\n",
      "Requirement already satisfied: huggingface_hub<0.18,>=0.16.4 in /Users/siddharthjain/anaconda3/envs/p3.9/lib/python3.9/site-packages (from tokenizers>=0.13.2->chromadb->chroma-haystack) (0.17.3)\n",
      "Requirement already satisfied: click<9.0.0,>=7.1.1 in /Users/siddharthjain/anaconda3/envs/p3.9/lib/python3.9/site-packages (from typer>=0.9.0->chromadb->chroma-haystack) (8.1.3)\n",
      "Requirement already satisfied: h11>=0.8 in /Users/siddharthjain/anaconda3/envs/p3.9/lib/python3.9/site-packages (from uvicorn[standard]>=0.18.3->chromadb->chroma-haystack) (0.14.0)\n",
      "Requirement already satisfied: httptools>=0.5.0 in /Users/siddharthjain/anaconda3/envs/p3.9/lib/python3.9/site-packages (from uvicorn[standard]>=0.18.3->chromadb->chroma-haystack) (0.6.1)\n",
      "Requirement already satisfied: python-dotenv>=0.13 in /Users/siddharthjain/anaconda3/envs/p3.9/lib/python3.9/site-packages (from uvicorn[standard]>=0.18.3->chromadb->chroma-haystack) (1.0.0)\n",
      "Requirement already satisfied: uvloop!=0.15.0,!=0.15.1,>=0.14.0 in /Users/siddharthjain/anaconda3/envs/p3.9/lib/python3.9/site-packages (from uvicorn[standard]>=0.18.3->chromadb->chroma-haystack) (0.19.0)\n",
      "Requirement already satisfied: watchfiles>=0.13 in /Users/siddharthjain/anaconda3/envs/p3.9/lib/python3.9/site-packages (from uvicorn[standard]>=0.18.3->chromadb->chroma-haystack) (0.21.0)\n",
      "Requirement already satisfied: websockets>=10.4 in /Users/siddharthjain/anaconda3/envs/p3.9/lib/python3.9/site-packages (from uvicorn[standard]>=0.18.3->chromadb->chroma-haystack) (12.0)\n",
      "Requirement already satisfied: zipp>=3.1.0 in /Users/siddharthjain/anaconda3/envs/p3.9/lib/python3.9/site-packages (from importlib-resources->chromadb->chroma-haystack) (3.11.0)\n",
      "Requirement already satisfied: MarkupSafe>=2.0 in /Users/siddharthjain/anaconda3/envs/p3.9/lib/python3.9/site-packages (from jinja2->haystack-ai->chroma-haystack) (2.1.1)\n",
      "Requirement already satisfied: aiohttp in /Users/siddharthjain/anaconda3/envs/p3.9/lib/python3.9/site-packages (from openai->haystack-ai->chroma-haystack) (3.8.6)\n",
      "Requirement already satisfied: pytz>=2020.1 in /Users/siddharthjain/anaconda3/envs/p3.9/lib/python3.9/site-packages (from pandas->haystack-ai->chroma-haystack) (2023.3)\n",
      "Requirement already satisfied: tzdata>=2022.1 in /Users/siddharthjain/anaconda3/envs/p3.9/lib/python3.9/site-packages (from pandas->haystack-ai->chroma-haystack) (2023.3)\n",
      "Requirement already satisfied: sniffio>=1.1 in /Users/siddharthjain/anaconda3/envs/p3.9/lib/python3.9/site-packages (from anyio<4.0.0,>=3.7.1->fastapi>=0.95.2->chromadb->chroma-haystack) (1.2.0)\n",
      "Requirement already satisfied: exceptiongroup in /Users/siddharthjain/anaconda3/envs/p3.9/lib/python3.9/site-packages (from anyio<4.0.0,>=3.7.1->fastapi>=0.95.2->chromadb->chroma-haystack) (1.1.3)\n",
      "Requirement already satisfied: wrapt<2,>=1.10 in /Users/siddharthjain/anaconda3/envs/p3.9/lib/python3.9/site-packages (from deprecated>=1.2.6->opentelemetry-api>=1.2.0->chromadb->chroma-haystack) (1.15.0)\n",
      "Requirement already satisfied: cachetools<6.0,>=2.0.0 in /Users/siddharthjain/anaconda3/envs/p3.9/lib/python3.9/site-packages (from google-auth>=1.0.1->kubernetes>=28.1.0->chromadb->chroma-haystack) (5.3.2)\n",
      "Requirement already satisfied: pyasn1-modules>=0.2.1 in /Users/siddharthjain/anaconda3/envs/p3.9/lib/python3.9/site-packages (from google-auth>=1.0.1->kubernetes>=28.1.0->chromadb->chroma-haystack) (0.3.0)\n",
      "Requirement already satisfied: rsa<5,>=3.1.4 in /Users/siddharthjain/anaconda3/envs/p3.9/lib/python3.9/site-packages (from google-auth>=1.0.1->kubernetes>=28.1.0->chromadb->chroma-haystack) (4.9)\n",
      "Requirement already satisfied: filelock in /Users/siddharthjain/anaconda3/envs/p3.9/lib/python3.9/site-packages (from huggingface_hub<0.18,>=0.16.4->tokenizers>=0.13.2->chromadb->chroma-haystack) (3.13.1)\n",
      "Requirement already satisfied: fsspec in /Users/siddharthjain/anaconda3/envs/p3.9/lib/python3.9/site-packages (from huggingface_hub<0.18,>=0.16.4->tokenizers>=0.13.2->chromadb->chroma-haystack) (2023.10.0)\n",
      "Requirement already satisfied: attrs>=17.3.0 in /Users/siddharthjain/anaconda3/envs/p3.9/lib/python3.9/site-packages (from aiohttp->openai->haystack-ai->chroma-haystack) (22.1.0)\n",
      "Requirement already satisfied: multidict<7.0,>=4.5 in /Users/siddharthjain/anaconda3/envs/p3.9/lib/python3.9/site-packages (from aiohttp->openai->haystack-ai->chroma-haystack) (6.0.4)\n",
      "Requirement already satisfied: async-timeout<5.0,>=4.0.0a3 in /Users/siddharthjain/anaconda3/envs/p3.9/lib/python3.9/site-packages (from aiohttp->openai->haystack-ai->chroma-haystack) (4.0.3)\n",
      "Requirement already satisfied: yarl<2.0,>=1.0 in /Users/siddharthjain/anaconda3/envs/p3.9/lib/python3.9/site-packages (from aiohttp->openai->haystack-ai->chroma-haystack) (1.9.2)\n",
      "Requirement already satisfied: frozenlist>=1.1.1 in /Users/siddharthjain/anaconda3/envs/p3.9/lib/python3.9/site-packages (from aiohttp->openai->haystack-ai->chroma-haystack) (1.4.0)\n",
      "Requirement already satisfied: aiosignal>=1.1.2 in /Users/siddharthjain/anaconda3/envs/p3.9/lib/python3.9/site-packages (from aiohttp->openai->haystack-ai->chroma-haystack) (1.3.1)\n",
      "Requirement already satisfied: humanfriendly>=9.1 in /Users/siddharthjain/anaconda3/envs/p3.9/lib/python3.9/site-packages (from coloredlogs->onnxruntime>=1.14.1->chromadb->chroma-haystack) (10.0)\n",
      "Requirement already satisfied: mpmath>=0.19 in /Users/siddharthjain/anaconda3/envs/p3.9/lib/python3.9/site-packages (from sympy->onnxruntime>=1.14.1->chromadb->chroma-haystack) (1.3.0)\n",
      "Requirement already satisfied: pyasn1<0.6.0,>=0.4.6 in /Users/siddharthjain/anaconda3/envs/p3.9/lib/python3.9/site-packages (from pyasn1-modules>=0.2.1->google-auth>=1.0.1->kubernetes>=28.1.0->chromadb->chroma-haystack) (0.5.0)\n",
      "Note: you may need to restart the kernel to use updated packages.\n"
     ]
    }
   ],
   "source": [
    "pip install chroma-haystack"
   ]
  },
  {
   "cell_type": "code",
   "execution_count": 2,
   "id": "ed6576e0",
   "metadata": {},
   "outputs": [
    {
     "name": "stdout",
     "output_type": "stream",
     "text": [
      "# conda environments:\n",
      "#\n",
      "base                     /Users/siddharthjain/anaconda3\n",
      "camelot                  /Users/siddharthjain/anaconda3/envs/camelot\n",
      "p3.10                    /Users/siddharthjain/anaconda3/envs/p3.10\n",
      "p3.8                     /Users/siddharthjain/anaconda3/envs/p3.8\n",
      "p3.9                  *  /Users/siddharthjain/anaconda3/envs/p3.9\n",
      "un-py                    /Users/siddharthjain/anaconda3/envs/un-py\n",
      "                         /Users/siddharthjain/miniconda3\n",
      "\n",
      "\n",
      "Note: you may need to restart the kernel to use updated packages.\n"
     ]
    }
   ],
   "source": [
    "conda env list\n"
   ]
  },
  {
   "cell_type": "code",
   "execution_count": 3,
   "id": "e0535fd7",
   "metadata": {},
   "outputs": [
    {
     "ename": "UniqueConstraintError",
     "evalue": "Collection documents already exists",
     "output_type": "error",
     "traceback": [
      "\u001b[0;31m---------------------------------------------------------------------------\u001b[0m",
      "\u001b[0;31mUniqueConstraintError\u001b[0m                     Traceback (most recent call last)",
      "Cell \u001b[0;32mIn[3], line 4\u001b[0m\n\u001b[1;32m      1\u001b[0m \u001b[38;5;28;01mfrom\u001b[39;00m \u001b[38;5;21;01mchroma_haystack\u001b[39;00m \u001b[38;5;28;01mimport\u001b[39;00m ChromaDocumentStore\n\u001b[1;32m      3\u001b[0m \u001b[38;5;66;03m# Chroma is used in-memory so we use the same instances in the two pipelines below\u001b[39;00m\n\u001b[0;32m----> 4\u001b[0m document_store \u001b[38;5;241m=\u001b[39m \u001b[43mChromaDocumentStore\u001b[49m\u001b[43m(\u001b[49m\u001b[43m)\u001b[49m\n",
      "File \u001b[0;32m~/anaconda3/envs/p3.9/lib/python3.9/site-packages/chroma_haystack/document_store.py:46\u001b[0m, in \u001b[0;36mChromaDocumentStore.__init__\u001b[0;34m(self, collection_name, embedding_function, **embedding_function_params)\u001b[0m\n\u001b[1;32m     44\u001b[0m \u001b[38;5;66;03m# Create the client instance\u001b[39;00m\n\u001b[1;32m     45\u001b[0m \u001b[38;5;28mself\u001b[39m\u001b[38;5;241m.\u001b[39m_chroma_client \u001b[38;5;241m=\u001b[39m chromadb\u001b[38;5;241m.\u001b[39mClient()\n\u001b[0;32m---> 46\u001b[0m \u001b[38;5;28mself\u001b[39m\u001b[38;5;241m.\u001b[39m_collection \u001b[38;5;241m=\u001b[39m \u001b[38;5;28;43mself\u001b[39;49m\u001b[38;5;241;43m.\u001b[39;49m\u001b[43m_chroma_client\u001b[49m\u001b[38;5;241;43m.\u001b[39;49m\u001b[43mcreate_collection\u001b[49m\u001b[43m(\u001b[49m\n\u001b[1;32m     47\u001b[0m \u001b[43m    \u001b[49m\u001b[43mname\u001b[49m\u001b[38;5;241;43m=\u001b[39;49m\u001b[43mcollection_name\u001b[49m\u001b[43m,\u001b[49m\n\u001b[1;32m     48\u001b[0m \u001b[43m    \u001b[49m\u001b[43membedding_function\u001b[49m\u001b[38;5;241;43m=\u001b[39;49m\u001b[43mget_embedding_function\u001b[49m\u001b[43m(\u001b[49m\u001b[43membedding_function\u001b[49m\u001b[43m)\u001b[49m\u001b[43m(\u001b[49m\u001b[38;5;241;43m*\u001b[39;49m\u001b[38;5;241;43m*\u001b[39;49m\u001b[43membedding_function_params\u001b[49m\u001b[43m)\u001b[49m\u001b[43m,\u001b[49m\n\u001b[1;32m     49\u001b[0m \u001b[43m\u001b[49m\u001b[43m)\u001b[49m\n",
      "File \u001b[0;32m~/anaconda3/envs/p3.9/lib/python3.9/site-packages/chromadb/api/client.py:179\u001b[0m, in \u001b[0;36mClient.create_collection\u001b[0;34m(self, name, metadata, embedding_function, get_or_create)\u001b[0m\n\u001b[1;32m    171\u001b[0m \u001b[38;5;129m@override\u001b[39m\n\u001b[1;32m    172\u001b[0m \u001b[38;5;28;01mdef\u001b[39;00m \u001b[38;5;21mcreate_collection\u001b[39m(\n\u001b[1;32m    173\u001b[0m     \u001b[38;5;28mself\u001b[39m,\n\u001b[0;32m   (...)\u001b[0m\n\u001b[1;32m    177\u001b[0m     get_or_create: \u001b[38;5;28mbool\u001b[39m \u001b[38;5;241m=\u001b[39m \u001b[38;5;28;01mFalse\u001b[39;00m,\n\u001b[1;32m    178\u001b[0m ) \u001b[38;5;241m-\u001b[39m\u001b[38;5;241m>\u001b[39m Collection:\n\u001b[0;32m--> 179\u001b[0m     \u001b[38;5;28;01mreturn\u001b[39;00m \u001b[38;5;28;43mself\u001b[39;49m\u001b[38;5;241;43m.\u001b[39;49m\u001b[43m_server\u001b[49m\u001b[38;5;241;43m.\u001b[39;49m\u001b[43mcreate_collection\u001b[49m\u001b[43m(\u001b[49m\n\u001b[1;32m    180\u001b[0m \u001b[43m        \u001b[49m\u001b[43mname\u001b[49m\u001b[38;5;241;43m=\u001b[39;49m\u001b[43mname\u001b[49m\u001b[43m,\u001b[49m\n\u001b[1;32m    181\u001b[0m \u001b[43m        \u001b[49m\u001b[43mmetadata\u001b[49m\u001b[38;5;241;43m=\u001b[39;49m\u001b[43mmetadata\u001b[49m\u001b[43m,\u001b[49m\n\u001b[1;32m    182\u001b[0m \u001b[43m        \u001b[49m\u001b[43membedding_function\u001b[49m\u001b[38;5;241;43m=\u001b[39;49m\u001b[43membedding_function\u001b[49m\u001b[43m,\u001b[49m\n\u001b[1;32m    183\u001b[0m \u001b[43m        \u001b[49m\u001b[43mtenant\u001b[49m\u001b[38;5;241;43m=\u001b[39;49m\u001b[38;5;28;43mself\u001b[39;49m\u001b[38;5;241;43m.\u001b[39;49m\u001b[43mtenant\u001b[49m\u001b[43m,\u001b[49m\n\u001b[1;32m    184\u001b[0m \u001b[43m        \u001b[49m\u001b[43mdatabase\u001b[49m\u001b[38;5;241;43m=\u001b[39;49m\u001b[38;5;28;43mself\u001b[39;49m\u001b[38;5;241;43m.\u001b[39;49m\u001b[43mdatabase\u001b[49m\u001b[43m,\u001b[49m\n\u001b[1;32m    185\u001b[0m \u001b[43m        \u001b[49m\u001b[43mget_or_create\u001b[49m\u001b[38;5;241;43m=\u001b[39;49m\u001b[43mget_or_create\u001b[49m\u001b[43m,\u001b[49m\n\u001b[1;32m    186\u001b[0m \u001b[43m    \u001b[49m\u001b[43m)\u001b[49m\n",
      "File \u001b[0;32m~/anaconda3/envs/p3.9/lib/python3.9/site-packages/chromadb/telemetry/opentelemetry/__init__.py:127\u001b[0m, in \u001b[0;36mtrace_method.<locals>.decorator.<locals>.wrapper\u001b[0;34m(*args, **kwargs)\u001b[0m\n\u001b[1;32m    125\u001b[0m \u001b[38;5;28;01mglobal\u001b[39;00m tracer, granularity\n\u001b[1;32m    126\u001b[0m \u001b[38;5;28;01mif\u001b[39;00m trace_granularity \u001b[38;5;241m<\u001b[39m granularity:\n\u001b[0;32m--> 127\u001b[0m     \u001b[38;5;28;01mreturn\u001b[39;00m \u001b[43mf\u001b[49m\u001b[43m(\u001b[49m\u001b[38;5;241;43m*\u001b[39;49m\u001b[43margs\u001b[49m\u001b[43m,\u001b[49m\u001b[43m \u001b[49m\u001b[38;5;241;43m*\u001b[39;49m\u001b[38;5;241;43m*\u001b[39;49m\u001b[43mkwargs\u001b[49m\u001b[43m)\u001b[49m\n\u001b[1;32m    128\u001b[0m \u001b[38;5;28;01mif\u001b[39;00m \u001b[38;5;129;01mnot\u001b[39;00m tracer:\n\u001b[1;32m    129\u001b[0m     \u001b[38;5;28;01mreturn\u001b[39;00m f(\u001b[38;5;241m*\u001b[39margs, \u001b[38;5;241m*\u001b[39m\u001b[38;5;241m*\u001b[39mkwargs)\n",
      "File \u001b[0;32m~/anaconda3/envs/p3.9/lib/python3.9/site-packages/chromadb/api/segment.py:157\u001b[0m, in \u001b[0;36mSegmentAPI.create_collection\u001b[0;34m(self, name, metadata, embedding_function, get_or_create, tenant, database)\u001b[0m\n\u001b[1;32m    153\u001b[0m check_index_name(name)\n\u001b[1;32m    155\u001b[0m \u001b[38;5;28mid\u001b[39m \u001b[38;5;241m=\u001b[39m uuid4()\n\u001b[0;32m--> 157\u001b[0m coll, created \u001b[38;5;241m=\u001b[39m \u001b[38;5;28;43mself\u001b[39;49m\u001b[38;5;241;43m.\u001b[39;49m\u001b[43m_sysdb\u001b[49m\u001b[38;5;241;43m.\u001b[39;49m\u001b[43mcreate_collection\u001b[49m\u001b[43m(\u001b[49m\n\u001b[1;32m    158\u001b[0m \u001b[43m    \u001b[49m\u001b[38;5;28;43mid\u001b[39;49m\u001b[38;5;241;43m=\u001b[39;49m\u001b[38;5;28;43mid\u001b[39;49m\u001b[43m,\u001b[49m\n\u001b[1;32m    159\u001b[0m \u001b[43m    \u001b[49m\u001b[43mname\u001b[49m\u001b[38;5;241;43m=\u001b[39;49m\u001b[43mname\u001b[49m\u001b[43m,\u001b[49m\n\u001b[1;32m    160\u001b[0m \u001b[43m    \u001b[49m\u001b[43mmetadata\u001b[49m\u001b[38;5;241;43m=\u001b[39;49m\u001b[43mmetadata\u001b[49m\u001b[43m,\u001b[49m\n\u001b[1;32m    161\u001b[0m \u001b[43m    \u001b[49m\u001b[43mdimension\u001b[49m\u001b[38;5;241;43m=\u001b[39;49m\u001b[38;5;28;43;01mNone\u001b[39;49;00m\u001b[43m,\u001b[49m\n\u001b[1;32m    162\u001b[0m \u001b[43m    \u001b[49m\u001b[43mget_or_create\u001b[49m\u001b[38;5;241;43m=\u001b[39;49m\u001b[43mget_or_create\u001b[49m\u001b[43m,\u001b[49m\n\u001b[1;32m    163\u001b[0m \u001b[43m    \u001b[49m\u001b[43mtenant\u001b[49m\u001b[38;5;241;43m=\u001b[39;49m\u001b[43mtenant\u001b[49m\u001b[43m,\u001b[49m\n\u001b[1;32m    164\u001b[0m \u001b[43m    \u001b[49m\u001b[43mdatabase\u001b[49m\u001b[38;5;241;43m=\u001b[39;49m\u001b[43mdatabase\u001b[49m\u001b[43m,\u001b[49m\n\u001b[1;32m    165\u001b[0m \u001b[43m\u001b[49m\u001b[43m)\u001b[49m\n\u001b[1;32m    167\u001b[0m \u001b[38;5;28;01mif\u001b[39;00m created:\n\u001b[1;32m    168\u001b[0m     segments \u001b[38;5;241m=\u001b[39m \u001b[38;5;28mself\u001b[39m\u001b[38;5;241m.\u001b[39m_manager\u001b[38;5;241m.\u001b[39mcreate_segments(coll)\n",
      "File \u001b[0;32m~/anaconda3/envs/p3.9/lib/python3.9/site-packages/chromadb/telemetry/opentelemetry/__init__.py:127\u001b[0m, in \u001b[0;36mtrace_method.<locals>.decorator.<locals>.wrapper\u001b[0;34m(*args, **kwargs)\u001b[0m\n\u001b[1;32m    125\u001b[0m \u001b[38;5;28;01mglobal\u001b[39;00m tracer, granularity\n\u001b[1;32m    126\u001b[0m \u001b[38;5;28;01mif\u001b[39;00m trace_granularity \u001b[38;5;241m<\u001b[39m granularity:\n\u001b[0;32m--> 127\u001b[0m     \u001b[38;5;28;01mreturn\u001b[39;00m \u001b[43mf\u001b[49m\u001b[43m(\u001b[49m\u001b[38;5;241;43m*\u001b[39;49m\u001b[43margs\u001b[49m\u001b[43m,\u001b[49m\u001b[43m \u001b[49m\u001b[38;5;241;43m*\u001b[39;49m\u001b[38;5;241;43m*\u001b[39;49m\u001b[43mkwargs\u001b[49m\u001b[43m)\u001b[49m\n\u001b[1;32m    128\u001b[0m \u001b[38;5;28;01mif\u001b[39;00m \u001b[38;5;129;01mnot\u001b[39;00m tracer:\n\u001b[1;32m    129\u001b[0m     \u001b[38;5;28;01mreturn\u001b[39;00m f(\u001b[38;5;241m*\u001b[39margs, \u001b[38;5;241m*\u001b[39m\u001b[38;5;241m*\u001b[39mkwargs)\n",
      "File \u001b[0;32m~/anaconda3/envs/p3.9/lib/python3.9/site-packages/chromadb/db/mixins/sysdb.py:225\u001b[0m, in \u001b[0;36mSqlSysDB.create_collection\u001b[0;34m(self, id, name, metadata, dimension, get_or_create, tenant, database)\u001b[0m\n\u001b[1;32m    218\u001b[0m         \u001b[38;5;28;01mreturn\u001b[39;00m (\n\u001b[1;32m    219\u001b[0m             \u001b[38;5;28mself\u001b[39m\u001b[38;5;241m.\u001b[39mget_collections(\n\u001b[1;32m    220\u001b[0m                 \u001b[38;5;28mid\u001b[39m\u001b[38;5;241m=\u001b[39mcollection[\u001b[38;5;124m\"\u001b[39m\u001b[38;5;124mid\u001b[39m\u001b[38;5;124m\"\u001b[39m], tenant\u001b[38;5;241m=\u001b[39mtenant, database\u001b[38;5;241m=\u001b[39mdatabase\n\u001b[1;32m    221\u001b[0m             )[\u001b[38;5;241m0\u001b[39m],\n\u001b[1;32m    222\u001b[0m             \u001b[38;5;28;01mFalse\u001b[39;00m,\n\u001b[1;32m    223\u001b[0m         )\n\u001b[1;32m    224\u001b[0m     \u001b[38;5;28;01melse\u001b[39;00m:\n\u001b[0;32m--> 225\u001b[0m         \u001b[38;5;28;01mraise\u001b[39;00m UniqueConstraintError(\u001b[38;5;124mf\u001b[39m\u001b[38;5;124m\"\u001b[39m\u001b[38;5;124mCollection \u001b[39m\u001b[38;5;132;01m{\u001b[39;00mname\u001b[38;5;132;01m}\u001b[39;00m\u001b[38;5;124m already exists\u001b[39m\u001b[38;5;124m\"\u001b[39m)\n\u001b[1;32m    227\u001b[0m topic \u001b[38;5;241m=\u001b[39m \u001b[38;5;28mself\u001b[39m\u001b[38;5;241m.\u001b[39m_assignment_policy\u001b[38;5;241m.\u001b[39massign_collection(\u001b[38;5;28mid\u001b[39m)\n\u001b[1;32m    228\u001b[0m collection \u001b[38;5;241m=\u001b[39m Collection(\n\u001b[1;32m    229\u001b[0m     \u001b[38;5;28mid\u001b[39m\u001b[38;5;241m=\u001b[39m\u001b[38;5;28mid\u001b[39m, topic\u001b[38;5;241m=\u001b[39mtopic, name\u001b[38;5;241m=\u001b[39mname, metadata\u001b[38;5;241m=\u001b[39mmetadata, dimension\u001b[38;5;241m=\u001b[39mdimension\n\u001b[1;32m    230\u001b[0m )\n",
      "\u001b[0;31mUniqueConstraintError\u001b[0m: Collection documents already exists"
     ]
    }
   ],
   "source": [
    "from chroma_haystack import ChromaDocumentStore\n",
    "\n",
    "# Chroma is used in-memory so we use the same instances in the two pipelines below\n",
    "document_store = ChromaDocumentStore()"
   ]
  }
 ],
 "metadata": {
  "kernelspec": {
   "display_name": "Python [conda env:anaconda3-p3.9] *",
   "language": "python",
   "name": "conda-env-anaconda3-p3.9-py"
  },
  "language_info": {
   "codemirror_mode": {
    "name": "ipython",
    "version": 3
   },
   "file_extension": ".py",
   "mimetype": "text/x-python",
   "name": "python",
   "nbconvert_exporter": "python",
   "pygments_lexer": "ipython3",
   "version": "3.9.16"
  }
 },
 "nbformat": 4,
 "nbformat_minor": 5
}
